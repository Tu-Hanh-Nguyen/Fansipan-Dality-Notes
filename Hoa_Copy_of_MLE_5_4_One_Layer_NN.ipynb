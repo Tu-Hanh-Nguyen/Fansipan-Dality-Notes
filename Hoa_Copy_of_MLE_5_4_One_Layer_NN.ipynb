{
  "nbformat": 4,
  "nbformat_minor": 0,
  "metadata": {
    "colab": {
      "name": "Copy of MLE-5-4-One Layer NN",
      "version": "0.3.2",
      "provenance": [],
      "collapsed_sections": [],
      "include_colab_link": true
    },
    "kernelspec": {
      "name": "python3",
      "display_name": "Python 3"
    },
    "accelerator": "GPU"
  },
  "cells": [
    {
      "cell_type": "markdown",
      "metadata": {
        "id": "view-in-github",
        "colab_type": "text"
      },
      "source": [
        "<a href=\"https://colab.research.google.com/github/Tu-Hanh-Nguyen/Fansipan-Dality-Notes/blob/master/Hoa_Copy_of_MLE_5_4_One_Layer_NN.ipynb\" target=\"_parent\"><img src=\"https://colab.research.google.com/assets/colab-badge.svg\" alt=\"Open In Colab\"/></a>"
      ]
    },
    {
      "cell_type": "code",
      "metadata": {
        "id": "hxyUOpEbYHIX",
        "colab_type": "code",
        "colab": {}
      },
      "source": [
        ""
      ],
      "execution_count": 0,
      "outputs": []
    },
    {
      "cell_type": "markdown",
      "metadata": {
        "id": "fRcHrvE6a_PH",
        "colab_type": "text"
      },
      "source": [
        "# One-Layer Neural Network from scratch\n",
        "\n",
        "\n"
      ]
    },
    {
      "cell_type": "code",
      "metadata": {
        "id": "rW-cfPV9bZDA",
        "colab_type": "code",
        "colab": {}
      },
      "source": [
        "import numpy as np\n",
        "import h5py\n",
        "import matplotlib.pyplot as plt\n",
        "%matplotlib inline\n",
        "import warnings\n",
        "warnings.filterwarnings('ignore')\n",
        "\n",
        "np.random.seed(1) # set a seed so that the results are consistent"
      ],
      "execution_count": 0,
      "outputs": []
    },
    {
      "cell_type": "code",
      "metadata": {
        "id": "d_yGA6wmcIO0",
        "colab_type": "code",
        "outputId": "bd9b1c6c-2b92-49c3-a2d9-de9e8aff9855",
        "colab": {
          "base_uri": "https://localhost:8080/",
          "height": 35
        }
      },
      "source": [
        "from google.colab import drive\n",
        "drive.mount('/content/gdrive')"
      ],
      "execution_count": 0,
      "outputs": [
        {
          "output_type": "stream",
          "text": [
            "Drive already mounted at /content/gdrive; to attempt to forcibly remount, call drive.mount(\"/content/gdrive\", force_remount=True).\n"
          ],
          "name": "stdout"
        }
      ]
    },
    {
      "cell_type": "code",
      "metadata": {
        "id": "ZDM9NPOBcUFw",
        "colab_type": "code",
        "colab": {}
      },
      "source": [
        "# Load the data from h5 file\n",
        "def load_dataset():\n",
        "    train_dataset = h5py.File('/content/gdrive/My Drive/CoderSchool-FTMLE/data/datasets/cat_vs_noncat/train_catvnoncat.h5', \"r\")\n",
        "    train_set_x_orig = np.array(train_dataset[\"train_set_x\"][:]) # your train set features\n",
        "    train_set_y_orig = np.array(train_dataset[\"train_set_y\"][:]) # your train set labels\n",
        "\n",
        "    test_dataset = h5py.File('/content/gdrive/My Drive/CoderSchool-FTMLE/data/datasets/cat_vs_noncat/test_catvnoncat.h5', \"r\")\n",
        "    test_set_x_orig = np.array(test_dataset[\"test_set_x\"][:]) # your test set features\n",
        "    test_set_y_orig = np.array(test_dataset[\"test_set_y\"][:]) # your test set labels\n",
        "\n",
        "    classes = np.array(test_dataset[\"list_classes\"][:]) # the list of classes\n",
        "    \n",
        "    train_set_y_orig = train_set_y_orig.reshape((1, train_set_y_orig.shape[0]))\n",
        "    test_set_y_orig = test_set_y_orig.reshape((1, test_set_y_orig.shape[0]))\n",
        "    \n",
        "    return train_set_x_orig, train_set_y_orig, test_set_x_orig, test_set_y_orig, classes"
      ],
      "execution_count": 0,
      "outputs": []
    },
    {
      "cell_type": "code",
      "metadata": {
        "id": "fk6l_0HPcq8C",
        "colab_type": "code",
        "colab": {}
      },
      "source": [
        "train_set_x_orig, train_set_y_orig, test_set_x_orig, test_set_y_orig, classes = load_dataset()"
      ],
      "execution_count": 0,
      "outputs": []
    },
    {
      "cell_type": "code",
      "metadata": {
        "id": "bW39KUMPct6Z",
        "colab_type": "code",
        "outputId": "c7baa8e9-41b3-4b1d-e38d-437fd73f0e4f",
        "colab": {
          "base_uri": "https://localhost:8080/",
          "height": 499
        }
      },
      "source": [
        "# Some some random images and their labels\n",
        "plt.subplots(figsize = (8,8))\n",
        "plt.subplot(221)\n",
        "index_1 = np.random.randint(0,len(train_set_x_orig)) \n",
        "plt.imshow(train_set_x_orig[index_1])\n",
        "plt.title(\"y = \" + str(train_set_y_orig[:, index_1]) + \", it's a '\" + classes[np.squeeze(train_set_y_orig[:, index_1])].decode(\"utf-8\") +  \"' picture.\")\n",
        "\n",
        "plt.subplot(222)\n",
        "index_2 = np.random.randint(0,len(train_set_x_orig))\n",
        "plt.imshow(train_set_x_orig[index_2])\n",
        "plt.title(\"y = \" + str(train_set_y_orig[:, index_2]) + \", it's a '\" + classes[np.squeeze(train_set_y_orig[:, index_2])].decode(\"utf-8\") +  \"' picture.\")\n",
        "\n",
        "plt.subplot(223)\n",
        "index_3 = np.random.randint(0,len(train_set_x_orig))\n",
        "plt.imshow(train_set_x_orig[index_3])\n",
        "plt.title(\"y = \" + str(train_set_y_orig[:, index_3]) + \", it's a '\" + classes[np.squeeze(train_set_y_orig[:, index_3])].decode(\"utf-8\") +  \"' picture.\")\n",
        "\n",
        "plt.subplot(224)\n",
        "index_4 = np.random.randint(0,len(train_set_x_orig))\n",
        "plt.imshow(train_set_x_orig[index_4])\n",
        "plt.title(\"y = \" + str(train_set_y_orig[:, index_4]) + \", it's a '\" + classes[np.squeeze(train_set_y_orig[:, index_4])].decode(\"utf-8\") +  \"' picture.\")\n",
        "\n",
        "plt.show()"
      ],
      "execution_count": 0,
      "outputs": [
        {
          "output_type": "display_data",
          "data": {
            "image/png": "[encoded data removed]",
            "text/plain": [
              "<Figure size 576x576 with 4 Axes>"
            ]
          },
          "metadata": {
            "tags": []
          }
        }
      ]
    },
    {
      "cell_type": "code",
      "metadata": {
        "id": "GU1wmpx-c8vw",
        "colab_type": "code",
        "outputId": "32adcb5b-4218-41ce-b8c8-d555470ebadc",
        "colab": {
          "base_uri": "https://localhost:8080/",
          "height": 378
        }
      },
      "source": [
        "# Visualization the train set labels\n",
        "unique, counts = np.unique(train_set_y_orig, return_counts = True)\n",
        "dict1 = dict(zip(unique, counts))\n",
        "plt.figure(figsize=(6,6))\n",
        "plt.pie(x = counts, labels = ['non-cat: %s' % counts[0],'cat: %s' % counts[1]], autopct = '%1.1f%%', startangle=90, textprops={'fontsize': 14})\n",
        "plt.title('Train set: Cat vs. Non-cat', fontdict={'fontsize': 14})\n",
        "plt.show()"
      ],
      "execution_count": 0,
      "outputs": [
        {
          "output_type": "display_data",
          "data": {
            "image/png": "[encoded data removed]",
            "text/plain": [
              "<Figure size 432x432 with 1 Axes>"
            ]
          },
          "metadata": {
            "tags": []
          }
        }
      ]
    },
    {
      "cell_type": "code",
      "metadata": {
        "id": "TLq4W7Vad8_O",
        "colab_type": "code",
        "colab": {}
      },
      "source": [
        "# Convert X to 2D array\n",
        "X_train = train_set_x_orig.flatten().reshape((len(train_set_x_orig),-1)) / 255\n",
        "X_test = test_set_x_orig.flatten().reshape((len(test_set_x_orig),-1)) / 255\n",
        "\n",
        "# Convert y to 1D array\n",
        "y_train = train_set_y_orig.reshape(1, -1)\n",
        "y_test = test_set_y_orig.reshape(1, -1)"
      ],
      "execution_count": 0,
      "outputs": []
    },
    {
      "cell_type": "code",
      "metadata": {
        "id": "jK7TTRTeNf5-",
        "colab_type": "code",
        "colab": {}
      },
      "source": [
        ""
      ],
      "execution_count": 0,
      "outputs": []
    },
    {
      "cell_type": "code",
      "metadata": {
        "id": "MtOE_I0koaYe",
        "colab_type": "code",
        "outputId": "56749e89-ab39-48ce-d037-ff99bde593b2",
        "colab": {
          "base_uri": "https://localhost:8080/",
          "height": 35
        }
      },
      "source": [
        "X_train.shape, y_train.shape, X_test.shape, y_test.shape"
      ],
      "execution_count": 0,
      "outputs": [
        {
          "output_type": "execute_result",
          "data": {
            "text/plain": [
              "((209, 12288), (1, 209), (50, 12288), (1, 50))"
            ]
          },
          "metadata": {
            "tags": []
          },
          "execution_count": 125
        }
      ]
    },
    {
      "cell_type": "markdown",
      "metadata": {
        "id": "3E-68pXZdQZP",
        "colab_type": "text"
      },
      "source": [
        "## Building model\n",
        "\n",
        "We are going to train a Neural Network with a single hidden layer\n",
        "\n",
        "<img src=\"https://i.imgur.com/5EHSfO6.png\" alt=\"cat-noncat\" width=\"75%\"/>"
      ]
    },
    {
      "cell_type": "markdown",
      "metadata": {
        "id": "tXa9i7nIgGiw",
        "colab_type": "text"
      },
      "source": [
        "**Mathematical expression of the algorithm**:\n",
        "\n",
        "For $i^{th}$ example $x^{(i)}$:\n",
        "$$z^{[1] (i)} =  W^{[1]} x^{(i)} + b^{[1] (i)}\\tag{1}$$ \n",
        "$$a^{[1] (i)} = \\tanh(z^{[1] (i)})\\tag{2}$$\n",
        "$$z^{[2] (i)} = W^{[2]} a^{[1] (i)} + b^{[2] (i)}\\tag{3}$$\n",
        "$$\\hat{y}^{(i)} = a^{[2] (i)} = \\sigma(z^{ [2] (i)})\\tag{4}$$\n",
        "$$y^{(i)}_{prediction} = \\begin{cases} 1 & \\mbox{if } a^{[2](i)} > 0.5 \\\\ 0 & \\mbox{otherwise } \\end{cases}\\tag{5}$$\n",
        "\n",
        "Given the predictions on all the examples, you can also compute the cost function $J$ as follows: \n",
        "$$J = - \\frac{1}{m} \\sum\\limits_{i = 0}^{m} \\large\\left(\\small y^{(i)}\\log\\left(a^{[2] (i)}\\right) + (1-y^{(i)})\\log\\left(1- a^{[2] (i)}\\right)  \\large  \\right) \\small \\tag{6}$$\n",
        "\n",
        "The general methodology to build a Neural Network is to:\n",
        "\n",
        "    1. Define the neural network structure ( # of input units,  # of hidden units, etc). \n",
        "    2. Initialize the model's parameters\n",
        "    3. Loop:\n",
        "        - Implement forward propagation\n",
        "        - Compute loss\n",
        "        - Implement backward propagation to get the gradients\n",
        "        - Update parameters (gradient descent)\n",
        "\n",
        "You often build helper functions to compute steps 1-3 and then merge them into one function we call `nn_model()`. Once you've built `nn_model()` and learnt the right parameters, you can make predictions on new data.\n",
        "\n",
        "Define three variables:\n",
        "\n",
        "    - n_x: the size of the input layer\n",
        "    - n_h: the size of the hidden layer (set this to 4) \n",
        "    - n_y: the size of the output layer"
      ]
    },
    {
      "cell_type": "markdown",
      "metadata": {
        "id": "8kcl9vcJmi8r",
        "colab_type": "text"
      },
      "source": [
        "### Summary of forward propagation\n",
        "\n",
        "$Z^{[1]} = W^{[1]}X^T + b^{[1]}$\n",
        "\n",
        "$A^{[1]} = tanh(Z^{[1]})$\n",
        "\n",
        "$Z^{[2]} = W^{[2]}A^{[1]} + b^{[2]}$\n",
        "\n",
        "$A^{[2]} = sigmoid(Z^{[2]})$\n",
        "\n",
        "$J = -\\frac1m\\sum \\bigg( Y \\odot log(A^{[2]}) + (1-Y) \\odot log(1-A^{[2]}) \\bigg)$\n",
        "\n",
        "> Note that $\\odot$ denotes elementwise multiplication."
      ]
    },
    {
      "cell_type": "code",
      "metadata": {
        "id": "7Zk9I6EbsxhG",
        "colab_type": "code",
        "colab": {}
      },
      "source": [
        "def sigmoid(z):\n",
        "    return 1/(1 + np.exp(-z))"
      ],
      "execution_count": 0,
      "outputs": []
    },
    {
      "cell_type": "code",
      "metadata": {
        "id": "FMjvG-rWSj8i",
        "colab_type": "code",
        "colab": {}
      },
      "source": [
        "def relu(Z):\n",
        "    return np.maximum(0, Z)"
      ],
      "execution_count": 0,
      "outputs": []
    },
    {
      "cell_type": "code",
      "metadata": {
        "id": "J_qiqzRPSjvU",
        "colab_type": "code",
        "colab": {}
      },
      "source": [
        "def relu_backward(Z):\n",
        "    temp = np.ones(Z.shape)\n",
        "    temp[Z<0] = 0\n",
        "    return temp"
      ],
      "execution_count": 0,
      "outputs": []
    },
    {
      "cell_type": "code",
      "metadata": {
        "id": "eIsH0wdqmKiT",
        "colab_type": "code",
        "outputId": "6f5c60aa-f6e3-4559-9fe2-b229d237b94a",
        "colab": {
          "base_uri": "https://localhost:8080/",
          "height": 35
        }
      },
      "source": [
        "def layer_sizes(X, Y, hiden_layers):\n",
        "    layer_dims = np.array(hiden_layers, copy = True)\n",
        "    \n",
        "    n_x = X.shape[1]\n",
        "    n_y = Y.shape[0]\n",
        "\n",
        "    layer_dims = np.insert(layer_dims, 0, n_x)\n",
        "    layer_dims = np.append(layer_dims, n_y)\n",
        "    return layer_dims\n",
        "hiden_layers = [20 ,5 ,7]\n",
        "layer_sizes (X_train, y_train, hiden_layers)"
      ],
      "execution_count": 0,
      "outputs": [
        {
          "output_type": "execute_result",
          "data": {
            "text/plain": [
              "array([12288,    20,     5,     7,     1])"
            ]
          },
          "metadata": {
            "tags": []
          },
          "execution_count": 215
        }
      ]
    },
    {
      "cell_type": "code",
      "metadata": {
        "id": "5zS6Eq1EdNYH",
        "colab_type": "code",
        "colab": {}
      },
      "source": [
        "def initialize_params(layer_dims):\n",
        "    np.random.seed(1)\n",
        "    parameters = {}\n",
        "    L = len(layer_dims)\n",
        "    for i in range(0, L):\n",
        "      parameters['W' + str(i)] = np.random.randn(layer_dims[i], int(layer_dims[i-1]/np.sqrt(layer_dims[i-1])))\n",
        "      parameters['b' + str(i)] = np.zeros((layer_dims[i], 1))\n",
        "      \n",
        "        \n",
        "    return parameters"
      ],
      "execution_count": 0,
      "outputs": []
    },
    {
      "cell_type": "code",
      "metadata": {
        "id": "9HVH5_w-vv7v",
        "colab_type": "code",
        "colab": {}
      },
      "source": [
        "def forward_propagation(X, parameters):\n",
        "    caches = {}\n",
        "    A_prev = X.T\n",
        "    L = len(parameters) // 2\n",
        "    \n",
        "    for i in range(0, L):\n",
        "      Wi = parameters['W' + str(i)]\n",
        "      bi = parameters['b' + str(i)]\n",
        "      print('Wi = ', Wi.shape)\n",
        "      print('bi = ', bi.shape)\n",
        "      Zi = np.dot(Wi.T, A_prev) + bi\n",
        "      Ai = relu(Zi)\n",
        "      print('Zi = ', Zi.shape)\n",
        "      print('Ai = ', Ai.shape)\n",
        "      caches['A' + str(i)] = 'A' + str(i)\n",
        "      caches['z' + str(i)] = 'Z' + str(i)\n",
        "      A_prev = Ai\n",
        "      print('Ai', Ai.shape)\n",
        "      \n",
        "    #last layer\n",
        "    W_last = parameters['W' + str(L-1)]\n",
        "    b_last = parameters['b' + str(L-1)]\n",
        "    print('Wlast = ', W_last.shape)\n",
        "    print('b_last = ', b_last.shape)\n",
        "    Z_last = np.dot(Wi.T, A_prev) + bi\n",
        "    A_last = sigmoid(Z_last)\n",
        "\n",
        "    caches['A' + str(i)] = A_last\n",
        "    caches['z' + str(i)] = Z_last\n",
        "    A_last = sigmoid(Z_last)\n",
        "    return A_last, caches\n"
      ],
      "execution_count": 0,
      "outputs": []
    },
    {
      "cell_type": "code",
      "metadata": {
        "id": "oNZkIe1ziu3N",
        "colab_type": "code",
        "outputId": "74c5a467-1b08-49ee-dbd1-6342747e6f3a",
        "colab": {
          "base_uri": "https://localhost:8080/",
          "height": 480
        }
      },
      "source": [
        "test_layer =layer_sizes(X_train, y_train, [20, 5, 7])\n",
        "test_layer\n",
        "parameters = initialize_params(test_layer)\n",
        "parameters['b1'].shape\n",
        "forward_propagation(X_train, parameters)\n",
        "# parameters"
      ],
      "execution_count": 0,
      "outputs": [
        {
          "output_type": "stream",
          "text": [
            "Wi =  (12288, 1)\n",
            "bi =  (12288, 1)\n",
            "Zi =  (12288, 209)\n",
            "Ai =  (12288, 209)\n",
            "Ai (12288, 209)\n",
            "Wi =  (20, 110)\n",
            "bi =  (20, 1)\n"
          ],
          "name": "stdout"
        },
        {
          "output_type": "error",
          "ename": "ValueError",
          "evalue": "ignored",
          "traceback": [
            "\u001b[0;31m---------------------------------------------------------------------------\u001b[0m",
            "\u001b[0;31mValueError\u001b[0m                                Traceback (most recent call last)",
            "\u001b[0;32m<ipython-input-294-8b0940d05b77>\u001b[0m in \u001b[0;36m<module>\u001b[0;34m()\u001b[0m\n\u001b[1;32m      3\u001b[0m \u001b[0mparameters\u001b[0m \u001b[0;34m=\u001b[0m \u001b[0minitialize_params\u001b[0m\u001b[0;34m(\u001b[0m\u001b[0mtest_layer\u001b[0m\u001b[0;34m)\u001b[0m\u001b[0;34m\u001b[0m\u001b[0;34m\u001b[0m\u001b[0m\n\u001b[1;32m      4\u001b[0m \u001b[0mparameters\u001b[0m\u001b[0;34m[\u001b[0m\u001b[0;34m'b1'\u001b[0m\u001b[0;34m]\u001b[0m\u001b[0;34m.\u001b[0m\u001b[0mshape\u001b[0m\u001b[0;34m\u001b[0m\u001b[0;34m\u001b[0m\u001b[0m\n\u001b[0;32m----> 5\u001b[0;31m \u001b[0mforward_propagation\u001b[0m\u001b[0;34m(\u001b[0m\u001b[0mX_train\u001b[0m\u001b[0;34m,\u001b[0m \u001b[0mparameters\u001b[0m\u001b[0;34m)\u001b[0m\u001b[0;34m\u001b[0m\u001b[0;34m\u001b[0m\u001b[0m\n\u001b[0m\u001b[1;32m      6\u001b[0m \u001b[0;31m# parameters\u001b[0m\u001b[0;34m\u001b[0m\u001b[0;34m\u001b[0m\u001b[0;34m\u001b[0m\u001b[0m\n",
            "\u001b[0;32m<ipython-input-293-5613ec60db0a>\u001b[0m in \u001b[0;36mforward_propagation\u001b[0;34m(X, parameters)\u001b[0m\n\u001b[1;32m      9\u001b[0m       \u001b[0mprint\u001b[0m\u001b[0;34m(\u001b[0m\u001b[0;34m'Wi = '\u001b[0m\u001b[0;34m,\u001b[0m \u001b[0mWi\u001b[0m\u001b[0;34m.\u001b[0m\u001b[0mshape\u001b[0m\u001b[0;34m)\u001b[0m\u001b[0;34m\u001b[0m\u001b[0;34m\u001b[0m\u001b[0m\n\u001b[1;32m     10\u001b[0m       \u001b[0mprint\u001b[0m\u001b[0;34m(\u001b[0m\u001b[0;34m'bi = '\u001b[0m\u001b[0;34m,\u001b[0m \u001b[0mbi\u001b[0m\u001b[0;34m.\u001b[0m\u001b[0mshape\u001b[0m\u001b[0;34m)\u001b[0m\u001b[0;34m\u001b[0m\u001b[0;34m\u001b[0m\u001b[0m\n\u001b[0;32m---> 11\u001b[0;31m       \u001b[0mZi\u001b[0m \u001b[0;34m=\u001b[0m \u001b[0mnp\u001b[0m\u001b[0;34m.\u001b[0m\u001b[0mdot\u001b[0m\u001b[0;34m(\u001b[0m\u001b[0mWi\u001b[0m\u001b[0;34m.\u001b[0m\u001b[0mT\u001b[0m\u001b[0;34m,\u001b[0m \u001b[0mA_prev\u001b[0m\u001b[0;34m)\u001b[0m \u001b[0;34m+\u001b[0m \u001b[0mbi\u001b[0m\u001b[0;34m\u001b[0m\u001b[0;34m\u001b[0m\u001b[0m\n\u001b[0m\u001b[1;32m     12\u001b[0m       \u001b[0mAi\u001b[0m \u001b[0;34m=\u001b[0m \u001b[0mrelu\u001b[0m\u001b[0;34m(\u001b[0m\u001b[0mZi\u001b[0m\u001b[0;34m)\u001b[0m\u001b[0;34m\u001b[0m\u001b[0;34m\u001b[0m\u001b[0m\n\u001b[1;32m     13\u001b[0m       \u001b[0mprint\u001b[0m\u001b[0;34m(\u001b[0m\u001b[0;34m'Zi = '\u001b[0m\u001b[0;34m,\u001b[0m \u001b[0mZi\u001b[0m\u001b[0;34m.\u001b[0m\u001b[0mshape\u001b[0m\u001b[0;34m)\u001b[0m\u001b[0;34m\u001b[0m\u001b[0;34m\u001b[0m\u001b[0m\n",
            "\u001b[0;31mValueError\u001b[0m: shapes (110,20) and (12288,209) not aligned: 20 (dim 1) != 12288 (dim 0)"
          ]
        }
      ]
    },
    {
      "cell_type": "code",
      "metadata": {
        "id": "a-Gs6zNSdOxh",
        "colab_type": "code",
        "colab": {}
      },
      "source": [
        "def compute_cross_entropy_cost(A_prev, parameters):\n",
        "    m = Y.shape[1]\n",
        "    A_last = A_prev\n",
        "    \n",
        "    loss = np.multiply(Y, np.log(A_last)) + np.multiply(1-Y, np.log(1-A_last))\n",
        "    J = (-1/m) * np.sum(loss)\n",
        "    J = np.squeeze(J) # np.squeeze([24]) => 24\n",
        "    \n",
        "    return J"
      ],
      "execution_count": 0,
      "outputs": []
    },
    {
      "cell_type": "code",
      "metadata": {
        "id": "qpiMB47enPo9",
        "colab_type": "code",
        "colab": {}
      },
      "source": [
        ""
      ],
      "execution_count": 0,
      "outputs": []
    },
    {
      "cell_type": "markdown",
      "metadata": {
        "id": "A6aAyrr3fQ2R",
        "colab_type": "text"
      },
      "source": [
        "### Summary of backward propagation\n",
        "\n",
        "$dZ^{[2]}= (A^{[2]} -Y)$\n",
        "\n",
        "$dW^{[2]} = \\frac{1}{m} dZ^{[2]}A^{[1]^T} $\n",
        "\n",
        "$db^{[2]} = \\frac{1}{m}np.sum(dZ^{[2]}, axis=1, keepdims=True)$\n",
        "\n",
        "$dZ^{[1]} =   W^{[2]^T}dZ^{[2]} \\odot g^{[1]'}(Z^{[1]})$\n",
        "\n",
        "$dW^{[1]} = \\frac1mdZ^{[1]}X$\n",
        "\n",
        "$db^{[1]} = \\frac{1}{m}np.sum(dZ^{[1]}, axis=1, keepdims=True)$\n",
        "\n",
        "> Note that $\\odot$ denotes elementwise multiplication.\n",
        "\n",
        "> The notation you will use is common in deep learning coding:\n",
        ">    - dW1 = $\\frac{\\partial \\mathcal{J} }{ \\partial W_1 }$\n",
        ">    - db1 = $\\frac{\\partial \\mathcal{J} }{ \\partial b_1 }$\n",
        ">    - dW2 = $\\frac{\\partial \\mathcal{J} }{ \\partial W_2 }$\n",
        ">    - db2 = $\\frac{\\partial \\mathcal{J} }{ \\partial b_2 }$\n",
        "\n",
        "> To compute dZ1 you'll need to compute $g^{[1]'}(Z^{[1]})$. Since $g^{[1]}(.)$ is the tanh activation function, if $a = g^{[1]}(z)$ then $g^{[1]'}(z) = 1-a^2$. So you can compute \n",
        "    $g^{[1]'}(Z^{[1]})$ using `(1 - A1**2)`."
      ]
    },
    {
      "cell_type": "code",
      "metadata": {
        "id": "YMN9jCnxdPC5",
        "colab_type": "code",
        "colab": {}
      },
      "source": [
        "def backward_propagation(X, Y, parameters, caches):\n",
        "    \n",
        "    m = X.shape[0]\n",
        "    L = len(parameters) // 2\n",
        "    grads = {}\n",
        "    A_last_prev = caches['A' + str(L-1)]\n",
        "    dZ_last = A_last - Y\n",
        "    dw_last = (1/m)*np.dot(dZ_last, A_last_prev.T)\n",
        "    db_last = (1/m) * np.sum(dZ_last, axis=1, keepdims=True)\n",
        "    \n",
        "    \n",
        "    grads['dZ' + str(L)] = dZ_last\n",
        "    grads['dw' + str(L)] = dw_last\n",
        "    grads['db' + str(L)] = db_last\n",
        "  \n",
        " \n",
        "    for i in range(L-1, 0, -1):\n",
        "      w_next = parameters['W' + str(i+1)]\n",
        "      dZ_next=grads['dZ' + str(i+1)]\n",
        "      Zi = caches['Z' + str(i)]\n",
        "      Ai_prev = caches['A' +str(i-1)] if i>1 else X.T\n",
        "      \n",
        "      dZi = np.multiply(np.dot(W_next.T, dZ_next), relu_backward(Zi))\n",
        "      dWi = (1/m)*np.dot(dZi, Ai_prev.T)\n",
        "      dbi = (1/m)*np.sum(dZi, axis=1, keepdims=True)\n",
        "      \n",
        "      \n",
        "     \n",
        "      grads['dZ' + str(i)] = dZi\n",
        "      grads['dW' + str(i)] = dWi\n",
        "      grads['db' + str(i)] = dzi\n",
        "    \n",
        "    return grads"
      ],
      "execution_count": 0,
      "outputs": []
    },
    {
      "cell_type": "code",
      "metadata": {
        "id": "Itd1VyJVdPFq",
        "colab_type": "code",
        "colab": {}
      },
      "source": [
        "def update_parameters(parameters, grads, learning_rate):\n",
        "    \n",
        "  \n",
        "    L = len(parameters) // 2 # number of layers in the neural network\n",
        "\n",
        "    # Update rule for each parameter. Use a for loop.\n",
        "    for i in range(1, L):\n",
        "\n",
        "        parameters[\"W\" + str(i)] = parameters[\"W\" + str(i)] - learning_rate * grads[\"dW\" + str(i)]\n",
        "        parameters[\"b\" + str(i)] = parameters[\"b\" + str(i)] - learning_rate * grads[\"db\" + str(i)]\n",
        "        \n",
        "    \n",
        "    return parameters"
      ],
      "execution_count": 0,
      "outputs": []
    },
    {
      "cell_type": "markdown",
      "metadata": {
        "id": "_rQdgRz0qVR5",
        "colab_type": "text"
      },
      "source": [
        "### Build our neural network in `nn_model()`"
      ]
    },
    {
      "cell_type": "code",
      "metadata": {
        "id": "vnzQ5aXRxu_-",
        "colab_type": "code",
        "colab": {}
      },
      "source": [
        ""
      ],
      "execution_count": 0,
      "outputs": []
    },
    {
      "cell_type": "code",
      "metadata": {
        "id": "GwhRn-iWpi0M",
        "colab_type": "code",
        "colab": {}
      },
      "source": [
        "def dnn_model(X, Y, hiden_dims, iterations, learning_rate):\n",
        "\n",
        "    layer_dims = layer_sizes(X, Y, hiden_dims)\n",
        "    \n",
        "    costs = []\n",
        "    test_errors = []\n",
        "    for i in range(iterations):\n",
        "        # Forward propagation\n",
        "        A_last, caches = forward_propagation(X, parameters)\n",
        "        # Calculate cost\n",
        "        J = compute_cross_entropy_cost(A_last, Y)\n",
        "        # Backward propagation\n",
        "        grads = backward_propagation(X, Y, parameters, caches)\n",
        "        # Update parameters\n",
        "        parameters = update_parameters(parameters, grads, learning_rate)\n",
        "        \n",
        "        if i % 100 == 0:\n",
        "            print('Iteration %i, Cost: %f' % (i, J))\n",
        "            costs.append(J)\n",
        "            A2_test, _ = forward_propagation(X_test, parameters)\n",
        "            predictions = A2_test > 0.5\n",
        "            test_errors.append(1 - accuracy_score(y_test[0], predictions[0]))\n",
        "            \n",
        "            \n",
        "    # plot the cost\n",
        "    fig, ax = plt.subplots(figsize=(6,8))\n",
        "    plt.plot(costs)\n",
        "    plt.plot(test_errors, c='r')\n",
        "    plt.ylabel('cost')\n",
        "    plt.xlabel('iterations (per hundreds)')\n",
        "    plt.title(\"Learning rate =\" + str(learning_rate))\n",
        "    plt.show()\n",
        "    \n",
        "    return parameters\n",
        "            "
      ],
      "execution_count": 0,
      "outputs": []
    },
    {
      "cell_type": "code",
      "metadata": {
        "id": "5jIEvzgPq3_v",
        "colab_type": "code",
        "colab": {}
      },
      "source": [
        "def predict(X, parameters):\n",
        "    A2, cache = forward_propagation(X, parameters)\n",
        "    predictions = A2 > 0.5\n",
        "    return predictions, A2"
      ],
      "execution_count": 0,
      "outputs": []
    },
    {
      "cell_type": "code",
      "metadata": {
        "id": "uzbN0ygWIZ5Y",
        "colab_type": "code",
        "outputId": "c3109264-d589-491a-eb65-55b73bddf786",
        "colab": {
          "base_uri": "https://localhost:8080/",
          "height": 353
        }
      },
      "source": [
        "layer_dims = [20 , 5]\n",
        "parameters = dnn_model(X_train, y_train, layer_dims, iterations=3300, learning_rate=0.001)\n",
        "parameters\n",
        "# predictions, A2 = predict(X_test, parameters)"
      ],
      "execution_count": 0,
      "outputs": [
        {
          "output_type": "error",
          "ename": "UnboundLocalError",
          "evalue": "ignored",
          "traceback": [
            "\u001b[0;31m---------------------------------------------------------------------------\u001b[0m",
            "\u001b[0;31mUnboundLocalError\u001b[0m                         Traceback (most recent call last)",
            "\u001b[0;32m<ipython-input-185-cfb3d7969f64>\u001b[0m in \u001b[0;36m<module>\u001b[0;34m()\u001b[0m\n\u001b[1;32m      1\u001b[0m \u001b[0mlayer_dims\u001b[0m \u001b[0;34m=\u001b[0m \u001b[0;34m[\u001b[0m\u001b[0;36m20\u001b[0m \u001b[0;34m,\u001b[0m \u001b[0;36m5\u001b[0m\u001b[0;34m]\u001b[0m\u001b[0;34m\u001b[0m\u001b[0;34m\u001b[0m\u001b[0m\n\u001b[0;32m----> 2\u001b[0;31m \u001b[0mparameters\u001b[0m \u001b[0;34m=\u001b[0m \u001b[0mdnn_model\u001b[0m\u001b[0;34m(\u001b[0m\u001b[0mX_train\u001b[0m\u001b[0;34m,\u001b[0m \u001b[0my_train\u001b[0m\u001b[0;34m,\u001b[0m \u001b[0mlayer_dims\u001b[0m\u001b[0;34m,\u001b[0m \u001b[0miterations\u001b[0m\u001b[0;34m=\u001b[0m\u001b[0;36m3300\u001b[0m\u001b[0;34m,\u001b[0m \u001b[0mlearning_rate\u001b[0m\u001b[0;34m=\u001b[0m\u001b[0;36m0.001\u001b[0m\u001b[0;34m)\u001b[0m\u001b[0;34m\u001b[0m\u001b[0;34m\u001b[0m\u001b[0m\n\u001b[0m\u001b[1;32m      3\u001b[0m \u001b[0mparameters\u001b[0m\u001b[0;34m\u001b[0m\u001b[0;34m\u001b[0m\u001b[0m\n\u001b[1;32m      4\u001b[0m \u001b[0;31m# predictions, A2 = predict(X_test, parameters)\u001b[0m\u001b[0;34m\u001b[0m\u001b[0;34m\u001b[0m\u001b[0;34m\u001b[0m\u001b[0m\n",
            "\u001b[0;32m<ipython-input-183-5635352f2ac7>\u001b[0m in \u001b[0;36mdnn_model\u001b[0;34m(X, Y, hiden_dims, iterations, learning_rate)\u001b[0m\n\u001b[1;32m      7\u001b[0m     \u001b[0;32mfor\u001b[0m \u001b[0mi\u001b[0m \u001b[0;32min\u001b[0m \u001b[0mrange\u001b[0m\u001b[0;34m(\u001b[0m\u001b[0miterations\u001b[0m\u001b[0;34m)\u001b[0m\u001b[0;34m:\u001b[0m\u001b[0;34m\u001b[0m\u001b[0;34m\u001b[0m\u001b[0m\n\u001b[1;32m      8\u001b[0m         \u001b[0;31m# Forward propagation\u001b[0m\u001b[0;34m\u001b[0m\u001b[0;34m\u001b[0m\u001b[0;34m\u001b[0m\u001b[0m\n\u001b[0;32m----> 9\u001b[0;31m         \u001b[0mA_last\u001b[0m\u001b[0;34m,\u001b[0m \u001b[0mcaches\u001b[0m \u001b[0;34m=\u001b[0m \u001b[0mforward_propagation\u001b[0m\u001b[0;34m(\u001b[0m\u001b[0mX\u001b[0m\u001b[0;34m,\u001b[0m \u001b[0mparameters\u001b[0m\u001b[0;34m)\u001b[0m\u001b[0;34m\u001b[0m\u001b[0;34m\u001b[0m\u001b[0m\n\u001b[0m\u001b[1;32m     10\u001b[0m         \u001b[0;31m# Calculate cost\u001b[0m\u001b[0;34m\u001b[0m\u001b[0;34m\u001b[0m\u001b[0;34m\u001b[0m\u001b[0m\n\u001b[1;32m     11\u001b[0m         \u001b[0mJ\u001b[0m \u001b[0;34m=\u001b[0m \u001b[0mcompute_cross_entropy_cost\u001b[0m\u001b[0;34m(\u001b[0m\u001b[0mA_last\u001b[0m\u001b[0;34m,\u001b[0m \u001b[0mY\u001b[0m\u001b[0;34m)\u001b[0m\u001b[0;34m\u001b[0m\u001b[0;34m\u001b[0m\u001b[0m\n",
            "\u001b[0;31mUnboundLocalError\u001b[0m: local variable 'parameters' referenced before assignment"
          ]
        }
      ]
    },
    {
      "cell_type": "code",
      "metadata": {
        "id": "MDaNEIvSNNvA",
        "colab_type": "code",
        "colab": {}
      },
      "source": [
        "predictions, A2 = predict(X_train, parameters)\n",
        "print(\"Accuracy Score - Training set: %f\" % accuracy_score(y_train[0], predictions[0]))\n",
        "print(\"Confusion Matrix:\")\n",
        "print(confusion_matrix(y_train[0], predictions[0]))"
      ],
      "execution_count": 0,
      "outputs": []
    },
    {
      "cell_type": "code",
      "metadata": {
        "id": "XNA0Fnqyr1id",
        "colab_type": "code",
        "colab": {}
      },
      "source": [
        "predictions, A2 = predict(X_test, parameters)\n",
        "\n",
        "print(\"Accuracy Score: %f\" % accuracy_score(y_test[0], predictions[0]))\n",
        "print(\"Confusion Matrix:\")\n",
        "print(confusion_matrix(y_test[0], predictions[0]))"
      ],
      "execution_count": 0,
      "outputs": []
    },
    {
      "cell_type": "code",
      "metadata": {
        "id": "CySUZeoNzSO1",
        "colab_type": "code",
        "colab": {}
      },
      "source": [
        "def print_mislabeled_images(classes, X, y, p):\n",
        "    a = p + y\n",
        "    mislabeled_indices = np.asarray(np.where(a == 1))\n",
        "    plt.rcParams['figure.figsize'] = (40.0, 40.0) # set default size of plots\n",
        "    num_images = len(mislabeled_indices[0])\n",
        "    for i in range(num_images):\n",
        "        index = mislabeled_indices[1][i]\n",
        "        \n",
        "        plt.subplot(2, num_images, i + 1)\n",
        "        plt.imshow(X[index, :].reshape(64,64,3), interpolation='nearest')\n",
        "        plt.axis('off')\n",
        "        plt.title(\"Prediction: \" + classes[int(p[0,index])].decode(\"utf-8\") + \" \\n Class: \" + classes[y[0,index]].decode(\"utf-8\"))"
      ],
      "execution_count": 0,
      "outputs": []
    },
    {
      "cell_type": "code",
      "metadata": {
        "id": "zmXgXZXno3hD",
        "colab_type": "code",
        "colab": {}
      },
      "source": [
        "print_mislabeled_images(classes, X_test, y_test, predictions)"
      ],
      "execution_count": 0,
      "outputs": []
    },
    {
      "cell_type": "markdown",
      "metadata": {
        "id": "oYjsxNMIdYFj",
        "colab_type": "text"
      },
      "source": [
        "## Model from sklearn"
      ]
    },
    {
      "cell_type": "code",
      "metadata": {
        "id": "iNRR7EaSdJU0",
        "colab_type": "code",
        "colab": {}
      },
      "source": [
        "from sklearn.linear_model import LogisticRegression\n",
        "from sklearn.metrics import confusion_matrix, accuracy_score\n",
        "\n",
        "# Create Logistics Regression model from X and y\n",
        "lg = LogisticRegression()\n",
        "lg.fit(X_train, y_train[0])\n",
        "\n",
        "# Show metrics\n",
        "print(\"Accuracy Score: %f\" % accuracy_score(y_test[0], lg.predict(X_test)))\n",
        "print(\"Confusion Matrix:\")\n",
        "print(confusion_matrix(y_test[0], lg.predict(X_test)))"
      ],
      "execution_count": 0,
      "outputs": []
    },
    {
      "cell_type": "code",
      "metadata": {
        "id": "KbNTLeK_djUx",
        "colab_type": "code",
        "colab": {}
      },
      "source": [
        ""
      ],
      "execution_count": 0,
      "outputs": []
    }
  ]
}